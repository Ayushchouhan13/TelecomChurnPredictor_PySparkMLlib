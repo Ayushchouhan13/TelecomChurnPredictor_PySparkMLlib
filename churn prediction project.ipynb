{
  "nbformat": 4,
  "nbformat_minor": 0,
  "metadata": {
    "colab": {
      "provenance": []
    },
    "kernelspec": {
      "name": "python3",
      "display_name": "Python 3"
    },
    "language_info": {
      "name": "python"
    }
  },
  "cells": [
    {
      "cell_type": "code",
      "execution_count": 1,
      "metadata": {
        "colab": {
          "base_uri": "https://localhost:8080/"
        },
        "id": "ph2EvglAvyE_",
        "outputId": "02e2a637-dba9-4383-be49-929c62b62780"
      },
      "outputs": [
        {
          "output_type": "stream",
          "name": "stdout",
          "text": [
            "Collecting pyspark\n",
            "  Downloading pyspark-3.5.1.tar.gz (317.0 MB)\n",
            "\u001b[2K     \u001b[90m━━━━━━━━━━━━━━━━━━━━━━━━━━━━━━━━━━━━━━━━\u001b[0m \u001b[32m317.0/317.0 MB\u001b[0m \u001b[31m2.6 MB/s\u001b[0m eta \u001b[36m0:00:00\u001b[0m\n",
            "\u001b[?25h  Preparing metadata (setup.py) ... \u001b[?25l\u001b[?25hdone\n",
            "Requirement already satisfied: py4j==0.10.9.7 in /usr/local/lib/python3.10/dist-packages (from pyspark) (0.10.9.7)\n",
            "Building wheels for collected packages: pyspark\n",
            "  Building wheel for pyspark (setup.py) ... \u001b[?25l\u001b[?25hdone\n",
            "  Created wheel for pyspark: filename=pyspark-3.5.1-py2.py3-none-any.whl size=317488491 sha256=08c9ef44c869b348e8a3186af294c0acc112707c30cabfdbfc382fe5adbee1c4\n",
            "  Stored in directory: /root/.cache/pip/wheels/80/1d/60/2c256ed38dddce2fdd93be545214a63e02fbd8d74fb0b7f3a6\n",
            "Successfully built pyspark\n",
            "Installing collected packages: pyspark\n",
            "Successfully installed pyspark-3.5.1\n"
          ]
        }
      ],
      "source": [
        "pip install pyspark"
      ]
    },
    {
      "cell_type": "code",
      "source": [
        "# Loading Libraries\n",
        "\n",
        "from pyspark.sql import SparkSession #\n",
        "from pyspark.ml.feature import StringIndexer , VectorAssembler\n",
        "from pyspark.ml.evaluation import BinaryClassificationEvaluator\n",
        "from pyspark.ml.classification import LogisticRegression"
      ],
      "metadata": {
        "id": "7I7xcjqqv4xS"
      },
      "execution_count": 2,
      "outputs": []
    },
    {
      "cell_type": "markdown",
      "source": [
        "Loading of Dataset which is Churn.csv\n"
      ],
      "metadata": {
        "id": "rbdJe0roWtaC"
      }
    },
    {
      "cell_type": "code",
      "source": [
        "spark = SparkSession.builder.appName(\"churn classification\").getOrCreate()"
      ],
      "metadata": {
        "id": "RDi3Co7lwaZt"
      },
      "execution_count": 3,
      "outputs": []
    },
    {
      "cell_type": "code",
      "source": [
        "data = spark.read.csv('churn.csv',header = True,inferSchema = True)"
      ],
      "metadata": {
        "id": "nqZVawZUwlfT"
      },
      "execution_count": 6,
      "outputs": []
    },
    {
      "cell_type": "code",
      "source": [
        "data.printSchema()"
      ],
      "metadata": {
        "colab": {
          "base_uri": "https://localhost:8080/"
        },
        "id": "jPuztbQjw0nP",
        "outputId": "dc15c7ce-5efd-451b-e842-69f5708d399d"
      },
      "execution_count": 8,
      "outputs": [
        {
          "output_type": "stream",
          "name": "stdout",
          "text": [
            "root\n",
            " |-- customerID: string (nullable = true)\n",
            " |-- gender: string (nullable = true)\n",
            " |-- SeniorCitizen: integer (nullable = true)\n",
            " |-- Partner: string (nullable = true)\n",
            " |-- Dependents: string (nullable = true)\n",
            " |-- tenure: integer (nullable = true)\n",
            " |-- CallService: string (nullable = true)\n",
            " |-- MultipleConnections: string (nullable = true)\n",
            " |-- InternetConnection: string (nullable = true)\n",
            " |-- OnlineSecurity: string (nullable = true)\n",
            " |-- OnlineBackup: string (nullable = true)\n",
            " |-- DeviceProtectionService: string (nullable = true)\n",
            " |-- TechnicalHelp: string (nullable = true)\n",
            " |-- OnlineTV: string (nullable = true)\n",
            " |-- OnlineMovies: string (nullable = true)\n",
            " |-- Agreement: string (nullable = true)\n",
            " |-- BillingMethod: string (nullable = true)\n",
            " |-- PaymentMethod: string (nullable = true)\n",
            " |-- MonthlyServiceCharges: double (nullable = true)\n",
            " |-- TotalAmount: double (nullable = true)\n",
            " |-- Churn: string (nullable = true)\n",
            "\n"
          ]
        }
      ]
    },
    {
      "cell_type": "markdown",
      "source": [
        "Total no. of rows -- 12336\n",
        "\n",
        "Total no. of columns -- 21(including churn)\n",
        "\n",
        "\n",
        "\n",
        "Total no. of (churn = \"No\") -- 6728\n",
        "\n",
        "Total no. of (churn = \"yes\") -- 5607\n",
        "\n",
        "\n"
      ],
      "metadata": {
        "id": "ZLIozyYGRhiO"
      }
    },
    {
      "cell_type": "code",
      "source": [
        "data.show(4)"
      ],
      "metadata": {
        "colab": {
          "base_uri": "https://localhost:8080/"
        },
        "id": "QvxhHaycxApH",
        "outputId": "6f5f505c-eabc-4c99-ee27-3e2b35433db0"
      },
      "execution_count": 45,
      "outputs": [
        {
          "output_type": "stream",
          "name": "stdout",
          "text": [
            "+----------+------+-------------+-------+----------+------+-----------+-------------------+------------------+-------------------+-------------------+-----------------------+-------------------+-------------------+-------------------+--------------+-------------+--------------+---------------------+-----------+-----+\n",
            "|customerID|gender|SeniorCitizen|Partner|Dependents|tenure|CallService|MultipleConnections|InternetConnection|     OnlineSecurity|       OnlineBackup|DeviceProtectionService|      TechnicalHelp|           OnlineTV|       OnlineMovies|     Agreement|BillingMethod| PaymentMethod|MonthlyServiceCharges|TotalAmount|Churn|\n",
            "+----------+------+-------------+-------+----------+------+-----------+-------------------+------------------+-------------------+-------------------+-----------------------+-------------------+-------------------+-------------------+--------------+-------------+--------------+---------------------+-----------+-----+\n",
            "|2907-ILJBN|Female|            0|    Yes|       Yes|    11|        Yes|                 No|                No|No internet service|No internet service|    No internet service|No internet service|No internet service|No internet service|      One year|           No|  Mailed check|                 20.6|      233.9|   No|\n",
            "|3896-RCYYE|Female|            0|     No|        No|    67|         No|   No phone service|               DSL|                 No|                 No|                    Yes|                Yes|                Yes|                Yes|Month-to-month|          Yes|  Credit card |                 53.4|    3579.15|   No|\n",
            "|9764-REAFF|Female|            0|    Yes|        No|    59|        Yes|                 No|                No|No internet service|No internet service|    No internet service|No internet service|No internet service|No internet service|      Two year|           No|Bank transfer |                 18.4|    1057.85|   No|\n",
            "|6651-RLGGM|  Male|            0|    Yes|       Yes|    67|        Yes|                Yes|                No|No internet service|No internet service|    No internet service|No internet service|No internet service|No internet service|      Two year|           No|  Mailed check|                 26.3|     1688.9|   No|\n",
            "+----------+------+-------------+-------+----------+------+-----------+-------------------+------------------+-------------------+-------------------+-----------------------+-------------------+-------------------+-------------------+--------------+-------------+--------------+---------------------+-----------+-----+\n",
            "only showing top 4 rows\n",
            "\n"
          ]
        }
      ]
    },
    {
      "cell_type": "markdown",
      "source": [
        "* Explain the Datasets ?\n",
        "\n",
        "1.  customerID -- Every value is unique.\n",
        "2.  Gender-- No. of males = 6216 ,  No. of Females = 6119\n",
        "3.  partner - Yes , NO\n",
        "4.  PaymentMethod -- Mailed check , Credit card , Bank transfer\n",
        "5.  MonthlyServiceCharges -- Amount charges on customer on monthly basis.\n",
        "6.  TotalAmount -- Total Amount of each customer .\n",
        "7.  Churn --  No = means Customer will stick to platform, while (yes) -- means customer will stop buying their service .\n",
        "\n",
        "\n",
        "\n",
        "\n"
      ],
      "metadata": {
        "id": "3vSJC7MqXURU"
      }
    },
    {
      "cell_type": "code",
      "source": [
        "data.describe()\n",
        " # mostly data are in string format so we have transform data into numerical\n",
        " # numerical values . Because we have to apply machine learnig techinque\n",
        " # which will be applied on numerical data .\n",
        "\n",
        "\n"
      ],
      "metadata": {
        "colab": {
          "base_uri": "https://localhost:8080/"
        },
        "id": "TK7yHEaUxRAs",
        "outputId": "cdd4e9b5-0afe-412a-c731-bd2a4933bacc"
      },
      "execution_count": 136,
      "outputs": [
        {
          "output_type": "execute_result",
          "data": {
            "text/plain": [
              "DataFrame[summary: string, customerID: string, gender: string, SeniorCitizen: string, Partner: string, Dependents: string, tenure: string, CallService: string, MultipleConnections: string, InternetConnection: string, OnlineSecurity: string, OnlineBackup: string, DeviceProtectionService: string, TechnicalHelp: string, OnlineTV: string, OnlineMovies: string, Agreement: string, BillingMethod: string, PaymentMethod: string, MonthlyServiceCharges: string, TotalAmount: string, Churn: string]"
            ]
          },
          "metadata": {},
          "execution_count": 136
        }
      ]
    },
    {
      "cell_type": "markdown",
      "source": [
        "Data Preprocessing ----\n",
        "1. StringIndexer - It will change categorical string columns  into numerical columns .\n",
        "eg. male - 0, while Female - 1\n",
        "\n",
        "2. VectorAssembler - It is used to combine multiple columns into a single vector column. This is important step\n",
        "because it is used as a input in machine\n",
        "learning models."
      ],
      "metadata": {
        "id": "1rTqRl0nc3fq"
      }
    },
    {
      "cell_type": "code",
      "source": [
        "indexer = StringIndexer(inputCols=  [\"gender\",\"Partner\",\"Dependents\",\"CallService\",\n",
        "                                     \"MultipleConnections\",\"InternetConnection\",\"OnlineSecurity\",\n",
        "                                     \"DeviceProtectionService\",\"TechnicalHelp\",\"OnlineTV\",\"OnlineMovies\",\n",
        "                                     \"Agreement\",\"BillingMethod\",\"PaymentMethod\",\n",
        "                                     \"Churn\"],\n",
        "\n",
        "                                     outputCols = [\"gender_index\",\"Partner_index\",\"Dependents_index\",\n",
        "                                                   \"CallService_index\",\"MultipleConnections_index\",\"InternetConnection_index\",\n",
        "                                                   \"OnlineSecurity_index\",\"DeviceProtectionService_index\",\"TechnicalHelp_index\",\"OnlineTV_index\",\n",
        "                                                   \"OnlineMovies_index\",\"Agreement_index\",\"BillingMethod_index\",\"PaymentMethod_index\",\n",
        "                                                    \"Churn_index\"])\n",
        "indexed_data = indexer.fit(data).transform(data)"
      ],
      "metadata": {
        "id": "YGdDW9d3xo1T"
      },
      "execution_count": 48,
      "outputs": []
    },
    {
      "cell_type": "code",
      "source": [
        "indexed_data.show(5)"
      ],
      "metadata": {
        "colab": {
          "base_uri": "https://localhost:8080/"
        },
        "id": "ExuoTbDBJ2wR",
        "outputId": "a85ba543-a270-4e00-b869-0bb3cca9efeb"
      },
      "execution_count": 49,
      "outputs": [
        {
          "output_type": "stream",
          "name": "stdout",
          "text": [
            "+----------+------+-------------+-------+----------+------+-----------+-------------------+------------------+-------------------+-------------------+-----------------------+-------------------+-------------------+-------------------+--------------+-------------+----------------+---------------------+-----------+-----+------------+-------------+----------------+-----------------+-------------------------+------------------------+--------------------+-----------------------------+-------------------+--------------+------------------+---------------+-------------------+-------------------+-----------+\n",
            "|customerID|gender|SeniorCitizen|Partner|Dependents|tenure|CallService|MultipleConnections|InternetConnection|     OnlineSecurity|       OnlineBackup|DeviceProtectionService|      TechnicalHelp|           OnlineTV|       OnlineMovies|     Agreement|BillingMethod|   PaymentMethod|MonthlyServiceCharges|TotalAmount|Churn|gender_index|Partner_index|Dependents_index|CallService_index|MultipleConnections_index|InternetConnection_index|OnlineSecurity_index|DeviceProtectionService_index|TechnicalHelp_index|OnlineTV_index|OnlineMovies_index|Agreement_index|BillingMethod_index|PaymentMethod_index|Churn_index|\n",
            "+----------+------+-------------+-------+----------+------+-----------+-------------------+------------------+-------------------+-------------------+-----------------------+-------------------+-------------------+-------------------+--------------+-------------+----------------+---------------------+-----------+-----+------------+-------------+----------------+-----------------+-------------------------+------------------------+--------------------+-----------------------------+-------------------+--------------+------------------+---------------+-------------------+-------------------+-----------+\n",
            "|2907-ILJBN|Female|            0|    Yes|       Yes|    11|        Yes|                 No|                No|No internet service|No internet service|    No internet service|No internet service|No internet service|No internet service|      One year|           No|    Mailed check|                 20.6|      233.9|   No|         1.0|          0.0|             1.0|              0.0|                      0.0|                     2.0|                 2.0|                          2.0|                2.0|           2.0|               2.0|            2.0|                1.0|                3.0|        0.0|\n",
            "|3896-RCYYE|Female|            0|     No|        No|    67|         No|   No phone service|               DSL|                 No|                 No|                    Yes|                Yes|                Yes|                Yes|Month-to-month|          Yes|    Credit card |                 53.4|    3579.15|   No|         1.0|          1.0|             0.0|              1.0|                      2.0|                     1.0|                 0.0|                          1.0|                1.0|           0.0|               0.0|            0.0|                0.0|                1.0|        0.0|\n",
            "|9764-REAFF|Female|            0|    Yes|        No|    59|        Yes|                 No|                No|No internet service|No internet service|    No internet service|No internet service|No internet service|No internet service|      Two year|           No|  Bank transfer |                 18.4|    1057.85|   No|         1.0|          0.0|             0.0|              0.0|                      0.0|                     2.0|                 2.0|                          2.0|                2.0|           2.0|               2.0|            1.0|                1.0|                2.0|        0.0|\n",
            "|6651-RLGGM|  Male|            0|    Yes|       Yes|    67|        Yes|                Yes|                No|No internet service|No internet service|    No internet service|No internet service|No internet service|No internet service|      Two year|           No|    Mailed check|                 26.3|     1688.9|   No|         0.0|          0.0|             1.0|              0.0|                      1.0|                     2.0|                 2.0|                          2.0|                2.0|           2.0|               2.0|            1.0|                1.0|                3.0|        0.0|\n",
            "|5879-SESNB|Female|            0|     No|        No|    11|        Yes|                Yes|       Fiber optic|                 No|                 No|                     No|                 No|                 No|                 No|Month-to-month|           No|Electronic check|                75.25|     888.65|   No|         1.0|          1.0|             0.0|              0.0|                      1.0|                     0.0|                 0.0|                          0.0|                0.0|           1.0|               1.0|            0.0|                1.0|                0.0|        0.0|\n",
            "+----------+------+-------------+-------+----------+------+-----------+-------------------+------------------+-------------------+-------------------+-----------------------+-------------------+-------------------+-------------------+--------------+-------------+----------------+---------------------+-----------+-----+------------+-------------+----------------+-----------------+-------------------------+------------------------+--------------------+-----------------------------+-------------------+--------------+------------------+---------------+-------------------+-------------------+-----------+\n",
            "only showing top 5 rows\n",
            "\n"
          ]
        }
      ]
    },
    {
      "cell_type": "code",
      "source": [
        "assembler = VectorAssembler(inputCols=[\"gender_index\",\"Partner_index\",\"Dependents_index\",\n",
        "                                      \"CallService_index\",\"MultipleConnections_index\",\"InternetConnection_index\",\n",
        "                                      \"OnlineSecurity_index\",\"DeviceProtectionService_index\",\"TechnicalHelp_index\",\"OnlineTV_index\",\n",
        "                                      \"OnlineMovies_index\",\"Agreement_index\",\"BillingMethod_index\",\"PaymentMethod_index\",\n",
        "                                       \"tenure\",\"MonthlyServiceCharges\",\"TotalAmount\"],\n",
        "                            outputCol = \"features\" )\n",
        "final_data = assembler.transform(indexed_data)"
      ],
      "metadata": {
        "id": "MuHYau2YBCdt"
      },
      "execution_count": 56,
      "outputs": []
    },
    {
      "cell_type": "code",
      "source": [
        "selected_data = final_data.select(\"features\",\"Churn_index\")\n",
        "# In the above churn is categorical Columns which we transform into numerical columns\n",
        "# to apply further techniques."
      ],
      "metadata": {
        "id": "ie_z-xnJFz3a"
      },
      "execution_count": 57,
      "outputs": []
    },
    {
      "cell_type": "code",
      "source": [
        "selected_data.show(5)"
      ],
      "metadata": {
        "colab": {
          "base_uri": "https://localhost:8080/"
        },
        "id": "6IXvW4W2JtCz",
        "outputId": "dec63f02-511a-4ae6-eb35-532c87370638"
      },
      "execution_count": 58,
      "outputs": [
        {
          "output_type": "stream",
          "name": "stdout",
          "text": [
            "+--------------------+-----------+\n",
            "|            features|Churn_index|\n",
            "+--------------------+-----------+\n",
            "|[1.0,0.0,1.0,0.0,...|        0.0|\n",
            "|[1.0,1.0,0.0,1.0,...|        0.0|\n",
            "|[1.0,0.0,0.0,0.0,...|        0.0|\n",
            "|[0.0,0.0,1.0,0.0,...|        0.0|\n",
            "|(17,[0,1,4,9,10,1...|        0.0|\n",
            "+--------------------+-----------+\n",
            "only showing top 5 rows\n",
            "\n"
          ]
        }
      ]
    },
    {
      "cell_type": "markdown",
      "source": [
        "Split the Data into Training and Test sets.\n",
        "And also applying 70:30 rule of spliting data ."
      ],
      "metadata": {
        "id": "kK81AqC2eO3W"
      }
    },
    {
      "cell_type": "code",
      "source": [
        "train_data,test_data = selected_data.randomSplit([0.7,0.3],seed =42)\n"
      ],
      "metadata": {
        "id": "8l68SD5JJw6W"
      },
      "execution_count": 59,
      "outputs": []
    },
    {
      "cell_type": "markdown",
      "source": [
        "Build and Training the Classification Model ----\n",
        "\n",
        "we will use LogisticRegression here"
      ],
      "metadata": {
        "id": "LBbTCbv5enJo"
      }
    },
    {
      "cell_type": "code",
      "source": [
        "lr = LogisticRegression(featuresCol = 'features',labelCol =\"Churn_index\")\n",
        "model = lr.fit(train_data) # fitting the model"
      ],
      "metadata": {
        "id": "AmpveKKhKPiJ"
      },
      "execution_count": 69,
      "outputs": []
    },
    {
      "cell_type": "code",
      "source": [
        "pred = model.transform(test_data) # prediction"
      ],
      "metadata": {
        "id": "iep5BxihKhj6"
      },
      "execution_count": 70,
      "outputs": []
    },
    {
      "cell_type": "markdown",
      "source": [
        "Evalute the model ----\n",
        "\n",
        "We will use BinaryClassificationEvaluator\n",
        "from PySpark MLlib to compute the accuracy of the model .\n"
      ],
      "metadata": {
        "id": "23UCTaQffgi2"
      }
    },
    {
      "cell_type": "code",
      "source": [
        "evaluator = BinaryClassificationEvaluator(labelCol = \"Churn_index\")"
      ],
      "metadata": {
        "id": "x6tDhUwWMScI"
      },
      "execution_count": 71,
      "outputs": []
    },
    {
      "cell_type": "code",
      "source": [
        "accuracy = evaluator.evaluate(pred)"
      ],
      "metadata": {
        "id": "-UurdCG0MaU-"
      },
      "execution_count": 80,
      "outputs": []
    },
    {
      "cell_type": "code",
      "source": [
        "print(f\"Model Accuracy : {accuracy}\")"
      ],
      "metadata": {
        "colab": {
          "base_uri": "https://localhost:8080/"
        },
        "id": "MROTTHf_Me2O",
        "outputId": "3df61f8d-8f69-4f72-f013-aceb88b2a1be"
      },
      "execution_count": 73,
      "outputs": [
        {
          "output_type": "stream",
          "name": "stdout",
          "text": [
            "Model Accuracy : 0.8379817590132912\n"
          ]
        }
      ]
    },
    {
      "cell_type": "code",
      "source": [
        "summary = model.summary"
      ],
      "metadata": {
        "id": "XDUhxzb-M3xN"
      },
      "execution_count": 74,
      "outputs": []
    },
    {
      "cell_type": "code",
      "source": [
        "summary.predictions.describe().show()"
      ],
      "metadata": {
        "colab": {
          "base_uri": "https://localhost:8080/"
        },
        "id": "7pOR6SCYNLWB",
        "outputId": "945d4058-d19d-49f1-f92c-cc139f85f471"
      },
      "execution_count": 75,
      "outputs": [
        {
          "output_type": "stream",
          "name": "stdout",
          "text": [
            "+-------+-------------------+-------------------+\n",
            "|summary|        Churn_index|         prediction|\n",
            "+-------+-------------------+-------------------+\n",
            "|  count|               5521|               5521|\n",
            "|   mean|0.12859989132403551|0.05596812171708024|\n",
            "| stddev| 0.3347868879676453|  0.229880975184348|\n",
            "|    min|                0.0|                0.0|\n",
            "|    max|                1.0|                1.0|\n",
            "+-------+-------------------+-------------------+\n",
            "\n"
          ]
        }
      ]
    },
    {
      "cell_type": "markdown",
      "source": [
        "Again applying LogisticRegression to increase the accuracy\n"
      ],
      "metadata": {
        "id": "91aVaJtOgMqP"
      }
    },
    {
      "cell_type": "code",
      "source": [
        "model1 = LogisticRegression(labelCol = \"Churn_index\")\n",
        "model1 = model1.fit(selected_data)"
      ],
      "metadata": {
        "id": "TVYOuLRXNQqq"
      },
      "execution_count": 83,
      "outputs": []
    },
    {
      "cell_type": "code",
      "source": [
        "results = model1.transform(selected_data)"
      ],
      "metadata": {
        "id": "ZUbXVvpGOzOo"
      },
      "execution_count": 84,
      "outputs": []
    },
    {
      "cell_type": "code",
      "source": [
        "final_accuracy = evaluator.evaluate(results)"
      ],
      "metadata": {
        "id": "IdMR1EIMOIU6"
      },
      "execution_count": 91,
      "outputs": []
    },
    {
      "cell_type": "code",
      "source": [
        "print(final_accuracy) # final accuracy"
      ],
      "metadata": {
        "colab": {
          "base_uri": "https://localhost:8080/"
        },
        "id": "6JkifelROUqg",
        "outputId": "b0dd277f-b0a3-4424-8603-a4dd71d2bbe8"
      },
      "execution_count": 92,
      "outputs": [
        {
          "output_type": "stream",
          "name": "stdout",
          "text": [
            "0.8564944188541112\n"
          ]
        }
      ]
    },
    {
      "cell_type": "markdown",
      "source": [
        "Churned Percentage ----"
      ],
      "metadata": {
        "id": "IsU-8ScChIsy"
      }
    },
    {
      "cell_type": "code",
      "source": [
        "final_summary = model1.summary"
      ],
      "metadata": {
        "id": "_V8kwSaxgtSz"
      },
      "execution_count": 144,
      "outputs": []
    },
    {
      "cell_type": "code",
      "source": [
        "final_summary.predictions.describe().show() #  final summary"
      ],
      "metadata": {
        "colab": {
          "base_uri": "https://localhost:8080/"
        },
        "id": "Nwfw-MtMgy_Z",
        "outputId": "63f377b6-fe57-40f5-a303-bcfe23ae9f0e"
      },
      "execution_count": 145,
      "outputs": [
        {
          "output_type": "stream",
          "name": "stdout",
          "text": [
            "+-------+-------------------+-------------------+\n",
            "|summary|        Churn_index|         prediction|\n",
            "+-------+-------------------+-------------------+\n",
            "|  count|               7719|               7719|\n",
            "|   mean|0.12838450576499547|0.05091333074232413|\n",
            "| stddev|0.33453912068482916| 0.2198349934271054|\n",
            "|    min|                0.0|                0.0|\n",
            "|    max|                1.0|                1.0|\n",
            "+-------+-------------------+-------------------+\n",
            "\n"
          ]
        }
      ]
    },
    {
      "cell_type": "code",
      "source": [
        "total_count = results.count()"
      ],
      "metadata": {
        "id": "gMg2nuJgQKKJ"
      },
      "execution_count": 139,
      "outputs": []
    },
    {
      "cell_type": "code",
      "source": [
        "total_count # Total predictions by model"
      ],
      "metadata": {
        "colab": {
          "base_uri": "https://localhost:8080/"
        },
        "id": "j_wnSszEQaYC",
        "outputId": "327d4e77-7152-4b39-978f-1a675b3abfa0"
      },
      "execution_count": 137,
      "outputs": [
        {
          "output_type": "execute_result",
          "data": {
            "text/plain": [
              "7719"
            ]
          },
          "metadata": {},
          "execution_count": 137
        }
      ]
    },
    {
      "cell_type": "code",
      "source": [
        "Churned_count = results.filter(results.prediction == 1.0 ).count()"
      ],
      "metadata": {
        "id": "6B9N-EDaQeUf"
      },
      "execution_count": 120,
      "outputs": []
    },
    {
      "cell_type": "code",
      "source": [
        "Churned_count"
      ],
      "metadata": {
        "colab": {
          "base_uri": "https://localhost:8080/"
        },
        "id": "OAEy2yG1SwqE",
        "outputId": "cac6f507-a742-4d47-e813-5e6cc3c6108f"
      },
      "execution_count": 121,
      "outputs": [
        {
          "output_type": "execute_result",
          "data": {
            "text/plain": [
              "393"
            ]
          },
          "metadata": {},
          "execution_count": 121
        }
      ]
    },
    {
      "cell_type": "code",
      "source": [
        "Churn_percentage = (Churned_count / total_count)*100"
      ],
      "metadata": {
        "id": "wLquoI4-S1rV"
      },
      "execution_count": 122,
      "outputs": []
    },
    {
      "cell_type": "code",
      "source": [
        "Churn_percentage"
      ],
      "metadata": {
        "colab": {
          "base_uri": "https://localhost:8080/"
        },
        "id": "oDoyZjRMTu7U",
        "outputId": "79278659-6701-424a-bee7-f8bf93082575"
      },
      "execution_count": 123,
      "outputs": [
        {
          "output_type": "execute_result",
          "data": {
            "text/plain": [
              "5.091333074232414"
            ]
          },
          "metadata": {},
          "execution_count": 123
        }
      ]
    },
    {
      "cell_type": "code",
      "source": [
        "print(f\"Percentage of people predicted to churn : {Churn_percentage : .2f}%\")"
      ],
      "metadata": {
        "colab": {
          "base_uri": "https://localhost:8080/"
        },
        "id": "Ch3SfxNyT1Jj",
        "outputId": "cbf183a1-efce-4d80-ee96-22e22b6eed32"
      },
      "execution_count": 125,
      "outputs": [
        {
          "output_type": "stream",
          "name": "stdout",
          "text": [
            "Percentage of people predicted to churn :  5.09%\n"
          ]
        }
      ]
    },
    {
      "cell_type": "markdown",
      "source": [
        "Note ----\n",
        "1. Percentage of people predicted to churn is 5.09%\n",
        "2. Accuracy of the model is around 85.64%"
      ],
      "metadata": {
        "id": "L-6_-W-MhNh6"
      }
    },
    {
      "cell_type": "code",
      "source": [],
      "metadata": {
        "id": "bRwQZAbzURvJ"
      },
      "execution_count": 132,
      "outputs": []
    },
    {
      "cell_type": "code",
      "source": [],
      "metadata": {
        "id": "DJgDguteVRhR"
      },
      "execution_count": 132,
      "outputs": []
    },
    {
      "cell_type": "code",
      "source": [],
      "metadata": {
        "id": "GSB2jT_9VXrv"
      },
      "execution_count": 132,
      "outputs": []
    },
    {
      "cell_type": "code",
      "source": [],
      "metadata": {
        "id": "0xdXhgzSV0E_"
      },
      "execution_count": null,
      "outputs": []
    }
  ]
}